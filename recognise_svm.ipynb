{
 "cells": [
  {
   "cell_type": "code",
   "execution_count": 1,
   "metadata": {},
   "outputs": [],
   "source": [
    "import _pickle as cPickle\n",
    "import numpy as np\n",
    "from scipy.io.wavfile import read\n",
    "import python_speech_features as mfcc\n",
    "import warnings\n",
    "warnings.filterwarnings(\"ignore\")\n",
    "import matplotlib.pyplot as plt\n",
    "import time\n",
    "import os\n",
    "from collections import Counter\n",
    "from sklearn.svm import SVC"
   ]
  },
  {
   "cell_type": "code",
   "execution_count": 2,
   "metadata": {},
   "outputs": [],
   "source": [
    "source   = \"development_set\\\\\"\n",
    "dest = \"speaker_models\\\\\"\n",
    "train_file = \"development_set_enroll_3.txt\" # \"train.txt\" # \n",
    "n_files = 3 #training_sample"
   ]
  },
  {
   "cell_type": "code",
   "execution_count": 3,
   "metadata": {},
   "outputs": [],
   "source": [
    "import numpy as np\n",
    "from sklearn import preprocessing\n",
    "import python_speech_features as mfcc\n",
    "\n",
    "def calculate_delta(array):\n",
    "    \"\"\"Calculate and returns the delta of given feature vector matrix\"\"\"\n",
    "\n",
    "    rows,cols = array.shape\n",
    "    deltas = np.zeros((rows,20))\n",
    "    N = 2\n",
    "    for i in range(rows):\n",
    "        index = []\n",
    "        j = 1\n",
    "        while j <= N:\n",
    "            if i-j < 0:\n",
    "              first =0\n",
    "            else:\n",
    "              first = i-j\n",
    "            if i+j > rows-1:\n",
    "                second = rows-1\n",
    "            else:\n",
    "                second = i+j \n",
    "            index.append((second,first))\n",
    "            j+=1\n",
    "        deltas[i] = ( array[index[0][0]]-array[index[0][1]] + (2 * (array[index[1][0]]-array[index[1][1]])) ) / 10\n",
    "    return deltas\n",
    "\n",
    "def extract_features(audio,rate):\n",
    "    \"\"\"on extrait 20 caracteristique de l'audio, et on calcule la variation pour augmenter le nombre de \n",
    "    caracteristique a 40\"\"\"    \n",
    "    \n",
    "    mfcc_feature = mfcc.mfcc(audio,rate, 0.045, 0.01,20,nfft = 2300, appendEnergy = True)    \n",
    "    mfcc_feature = preprocessing.scale(mfcc_feature)\n",
    "    delta = calculate_delta(mfcc_feature)\n",
    "    combined = np.hstack((mfcc_feature,delta)) \n",
    "    return combined"
   ]
  },
  {
   "cell_type": "code",
   "execution_count": 4,
   "metadata": {
    "scrolled": true
   },
   "outputs": [
    {
     "name": "stdout",
     "output_type": "stream",
     "text": [
      "\n",
      "1 Modeled : sekou_1 , Training Data: 5.61922902494331 , MFCC: 40\n",
      "\n",
      "2 Modeled : sekou_2 , Training Data: 5.828208616780046 , MFCC: 40\n",
      "\n",
      "3 Modeled : hamadoun_1 , Training Data: 5.990748299319728 , MFCC: 40\n",
      "\n",
      "4 Modeled : hamadoun_2 , Training Data: 5.990748299319728 , MFCC: 40\n",
      "\n",
      "5 Modeled : djibson_1 , Training Data: 5.38702947845805 , MFCC: 40\n",
      "\n",
      "6 Modeled : djibson_2 , Training Data: 5.224489795918367 , MFCC: 40\n",
      "Avg training_data: 0.45387271352985636\n"
     ]
    }
   ],
   "source": [
    "count = 1\n",
    "file_paths = open(train_file,'r')\n",
    "\n",
    "label_dict = {}\n",
    "y_train = []\n",
    "x_train = np.asarray(())\n",
    "features = np.asarray(())\n",
    "avg_data = 0\n",
    "training_data = 0\n",
    "\n",
    "for i, path in enumerate(file_paths):    \n",
    "    path = path.strip()   \n",
    "    #print(path)\n",
    "    Fs, audio = read(source + path)\n",
    "    vector = extract_features(audio,Fs)\n",
    "    training_data += len(audio)\n",
    "    \n",
    "    if features.size == 0:\n",
    "        features = vector\n",
    "    else:\n",
    "        features = np.vstack((features, vector))\n",
    "    #print(len(features))\n",
    "    # when features of 5 files of speaker are concatenated, then do model training\n",
    "    if count == n_files:    \n",
    "        if x_train.size == 0:\n",
    "            x_train = features\n",
    "        else:\n",
    "            x_train = np.vstack((x_train, features))\n",
    "        for j in range(len(features)):\n",
    "            y_train.append((i+1)//n_files)\n",
    "        print()\n",
    "        mn = features.shape\n",
    "        print((i+1)//n_files, 'Modeled :',path.split(\"\\\\\")[0], \", Training Data:\", training_data/Fs, \", MFCC:\", mn[1])\n",
    "        label_dict[(i+1)//n_files] = path.split(\"\\\\\")[0]\n",
    "        features = np.asarray(())\n",
    "        avg_data += training_data\n",
    "        training_data = 0\n",
    "        count = 0\n",
    "    count = count + 1\n",
    "file_paths.close()\n",
    "print(\"Avg training_data:\", avg_data/(Fs*75))"
   ]
  },
  {
   "cell_type": "code",
   "execution_count": 5,
   "metadata": {},
   "outputs": [
    {
     "name": "stdout",
     "output_type": "stream",
     "text": [
      "Avg training_data: 0.45387271352985636\n"
     ]
    }
   ],
   "source": [
    "print(\"Avg training_data:\", avg_data/(Fs*75))"
   ]
  },
  {
   "cell_type": "code",
   "execution_count": 6,
   "metadata": {},
   "outputs": [
    {
     "data": {
      "text/plain": [
       "{1: 'sekou_1',\n",
       " 2: 'sekou_2',\n",
       " 3: 'hamadoun_1',\n",
       " 4: 'hamadoun_2',\n",
       " 5: 'djibson_1',\n",
       " 6: 'djibson_2'}"
      ]
     },
     "execution_count": 6,
     "metadata": {},
     "output_type": "execute_result"
    }
   ],
   "source": [
    "label_dict"
   ]
  },
  {
   "cell_type": "code",
   "execution_count": 7,
   "metadata": {},
   "outputs": [
    {
     "data": {
      "text/plain": [
       "(6754, 40, 1, 'sekou_1')"
      ]
     },
     "execution_count": 7,
     "metadata": {},
     "output_type": "execute_result"
    }
   ],
   "source": [
    "len(x_train), len(x_train[0]), y_train[0], label_dict[y_train[0]]"
   ]
  },
  {
   "cell_type": "code",
   "execution_count": 8,
   "metadata": {},
   "outputs": [
    {
     "data": {
      "text/plain": [
       "(6754, 6754)"
      ]
     },
     "execution_count": 8,
     "metadata": {},
     "output_type": "execute_result"
    }
   ],
   "source": [
    "len(x_train), len(y_train)"
   ]
  },
  {
   "cell_type": "code",
   "execution_count": 9,
   "metadata": {},
   "outputs": [
    {
     "data": {
      "text/plain": [
       "SVC(C=10, class_weight='balanced', decision_function_shape='ovo',\n",
       "    probability=True)"
      ]
     },
     "execution_count": 9,
     "metadata": {},
     "output_type": "execute_result"
    }
   ],
   "source": [
    "model = SVC(C=10,probability=True, class_weight = \"balanced\", decision_function_shape = 'ovo')\n",
    "model.fit(x_train, y_train)"
   ]
  },
  {
   "cell_type": "code",
   "execution_count": 10,
   "metadata": {},
   "outputs": [],
   "source": [
    "picklefile = \"model_5_rbf.svm\"\n",
    "cPickle.dump(model, open(dest + picklefile,'wb'))"
   ]
  },
  {
   "cell_type": "markdown",
   "metadata": {},
   "source": [
    "# TEST"
   ]
  },
  {
   "cell_type": "code",
   "execution_count": 11,
   "metadata": {},
   "outputs": [],
   "source": [
    "test_file = \"development_set_test.txt\"  # \"test.txt\" #   \n",
    "file_paths = open(test_file, 'r')\n",
    "\n",
    "svm_model = cPickle.load(open(dest + \"model_5_rbf.svm\",'rb'))\n",
    "\n",
    "files  = [os.path.join(source, f[0:len(f)-1]) for f in file_paths]"
   ]
  },
  {
   "cell_type": "code",
   "execution_count": 12,
   "metadata": {
    "scrolled": true
   },
   "outputs": [
    {
     "data": {
      "text/plain": [
       "12"
      ]
     },
     "execution_count": 12,
     "metadata": {},
     "output_type": "execute_result"
    }
   ],
   "source": [
    "len(files)"
   ]
  },
  {
   "cell_type": "code",
   "execution_count": 13,
   "metadata": {},
   "outputs": [
    {
     "data": {
      "text/plain": [
       "'sekou_1'"
      ]
     },
     "execution_count": 13,
     "metadata": {},
     "output_type": "execute_result"
    }
   ],
   "source": [
    "files[0].split(\"\\\\\")[1].split(\"-\")[0]"
   ]
  },
  {
   "cell_type": "code",
   "execution_count": 14,
   "metadata": {
    "scrolled": false
   },
   "outputs": [
    {
     "name": "stdout",
     "output_type": "stream",
     "text": [
      "Taux  0.7788784972117098\n",
      "1 : sekou_1 Predicted as: sekou_1\n",
      "Taux  0.9147642506897796\n",
      "2 : sekou_2 Predicted as: sekou_2\n",
      "Taux  0.8677625532906496\n",
      "3 : hamadoun_1 Predicted as: hamadoun_1\n",
      "Taux  0.8400135317214337\n",
      "4 : hamadoun_1 Predicted as: hamadoun_1\n",
      "Taux  0.8104338342866134\n",
      "5 : hamadoun_1 Predicted as: hamadoun_1\n",
      "Taux  0.9019923448265212\n",
      "6 : hamadoun_2 Predicted as: hamadoun_2\n",
      "Taux  0.8797060999003882\n",
      "7 : djibson_1 Predicted as: djibson_1\n",
      "Taux  0.5955071473694576\n",
      "8 : djibson_2 Predicted as: djibson_2\n",
      "Taux  0.3811272207279734\n",
      "-----------------------------------------------\n",
      "9 : test_1 Predicted as: djibson_2\n",
      "-----------------------------------------------\n",
      "Taux  0.3052430318878991\n",
      "-----------------------------------------------\n",
      "10 : test_2 Predicted as: djibson_2\n",
      "-----------------------------------------------\n",
      "Taux  0.280639092506822\n",
      "-----------------------------------------------\n",
      "11 : ibh_1 Predicted as: djibson_2\n",
      "-----------------------------------------------\n",
      "Taux  0.39184676777455835\n",
      "-----------------------------------------------\n",
      "12 : ibh_2 Predicted as: djibson_2\n",
      "-----------------------------------------------\n",
      "Accuracy = 66.66666666666666 %\n"
     ]
    }
   ],
   "source": [
    "accuracy = 0\n",
    "total_sample = 0\n",
    "for i, path in enumerate(files):\n",
    "    total_sample += 1\n",
    "    Fs, audio = read(path)\n",
    "    vector =   extract_features(audio,Fs)\n",
    "    temp = svm_model.predict(vector)\n",
    "    p=svm_model.predict_proba(vector)\n",
    "    y_test = Counter(temp).most_common()[0]\n",
    "    print(\"Taux \",np.sum(p[:,y_test[0]-1])/p.shape[0])\n",
    "    if(path.split(\"\\\\\")[1].split(\"-\")[0] == label_dict[y_test[0]]):\n",
    "        accuracy += 1\n",
    "        print(i+1, \":\", path.split(\"\\\\\")[1].split(\"\\\\\")[0], \"Predicted as:\", label_dict[y_test[0]])\n",
    "    else:\n",
    "        print(\"-----------------------------------------------\")\n",
    "        print(i+1, \":\", path.split(\"\\\\\")[1].split(\"\\\\\")[0], \"Predicted as:\", label_dict[y_test[0]])\n",
    "        print(\"-----------------------------------------------\")\n",
    "print(\"Accuracy =\", accuracy/total_sample*100, \"%\")"
   ]
  },
  {
   "cell_type": "code",
   "execution_count": 15,
   "metadata": {},
   "outputs": [
    {
     "name": "stdout",
     "output_type": "stream",
     "text": [
      "Taux  0.8104338342866134\n",
      "Predicted as: hamadoun_1\n"
     ]
    },
    {
     "data": {
      "image/png": "[encoded data removed]",
      "text/plain": [
       "<Figure size 432x288 with 1 Axes>"
      ]
     },
     "metadata": {
      "needs_background": "light"
     },
     "output_type": "display_data"
    }
   ],
   "source": [
    "Fs, audio = read(\"development_set\\\\hamadoun_1\\\\audio6.wav\")\n",
    "vector =  extract_features(audio,Fs)\n",
    "temp = svm_model.predict(vector)\n",
    "p=svm_model.predict_proba(vector)\n",
    "plt.plot(temp)\n",
    "from collections import Counter \n",
    "y_test = Counter(temp).most_common()[0]\n",
    "print(\"Taux \",np.sum(p[:,y_test[0]-1])/p.shape[0])\n",
    "print(\"Predicted as:\", label_dict[y_test[0]])"
   ]
  },
  {
   "cell_type": "code",
   "execution_count": 16,
   "metadata": {},
   "outputs": [],
   "source": [
    "import pyaudio\n",
    "import wave\n",
    "import os\n",
    "import pickle\n",
    "import time\n",
    "from scipy.io.wavfile import read\n",
    "from IPython.display import Audio, display, clear_output"
   ]
  },
  {
   "cell_type": "code",
   "execution_count": 17,
   "metadata": {},
   "outputs": [
    {
     "name": "stdout",
     "output_type": "stream",
     "text": [
      "Dites votre commande dans 3 seconds\n",
      "Dites votre commande dans 2 seconds\n",
      "Dites votre commande dans 1 seconds\n",
      "Dites votre commande dans 0 seconds\n",
      "recording...\n",
      "Done\n",
      "Predicted as: hamadoun\n",
      "ouverture de la porte\n"
     ]
    }
   ],
   "source": [
    " #Voice authentication\n",
    "FORMAT = pyaudio.paInt16\n",
    "CHANNELS = 2\n",
    "RATE = 44100\n",
    "CHUNK = 1024\n",
    "RECORD_SECONDS = 2\n",
    "\n",
    "audio = pyaudio.PyAudio()\n",
    "\n",
    "j=3\n",
    "while j>=0:\n",
    "    time.sleep(1.0)\n",
    "    os.system('cls' if os.name == 'nt' else 'clear')\n",
    "    print(\"Dites votre commande dans {} seconds\".format(j))\n",
    "    j-=1\n",
    "\n",
    "# start Recording\n",
    "stream = audio.open(format=FORMAT, channels=CHANNELS,\n",
    "rate=RATE, input=True,\n",
    "frames_per_buffer=CHUNK)\n",
    "\n",
    "print(\"recording...\")\n",
    "frames = []\n",
    "\n",
    "for _ in range(0, int(RATE / CHUNK * RECORD_SECONDS)):\n",
    "    data = stream.read(CHUNK)\n",
    "    frames.append(data)\n",
    "\n",
    "# stop Recording\n",
    "stream.stop_stream()\n",
    "stream.close()\n",
    "audio.terminate()\n",
    "        \n",
    "# saving wav file of speaker\n",
    "waveFile = wave.open('test.wav', 'wb')\n",
    "waveFile.setnchannels(CHANNELS)\n",
    "waveFile.setsampwidth(audio.get_sample_size(FORMAT))\n",
    "waveFile.setframerate(RATE)\n",
    "waveFile.writeframes(b''.join(frames))\n",
    "waveFile.close()\n",
    "print(\"Done\")\n",
    "Fs, audio = read(\"test.wav\")\n",
    "vector =  extract_features(audio,Fs)\n",
    "temp = svm_model.predict(vector)\n",
    "p=svm_model.predict_proba(vector)\n",
    "x=np.sum(p[:,y_test[0]-1])/p.shape[0]\n",
    "from collections import Counter \n",
    "y_test = Counter(temp).most_common()[0]\n",
    "#print(\"Taux \",x)\n",
    "if(x>=0.20):\n",
    "    result=label_dict[y_test[0]].split(\"_\")\n",
    "    print(\"Predicted as:\",result[0] )\n",
    "    if(result[1]==\"1\"):\n",
    "        print(\"ouverture de la porte\")\n",
    "    else:\n",
    "        print(\"validation de la seance\")\n",
    "else:\n",
    "    print(\"Utilisateur non reconnu\")"
   ]
  },
  {
   "cell_type": "code",
   "execution_count": null,
   "metadata": {},
   "outputs": [],
   "source": []
  },
  {
   "cell_type": "markdown",
   "metadata": {},
   "source": [
    "import math\n",
    "import contextlib\n",
    "\n",
    "fname = 'Test-2.wav'\n",
    "outname = 'filtered.wav'\n",
    "\n",
    "cutOffFrequency = 400.0\n",
    "\n",
    "# \n",
    "def running_mean(x, windowSize):\n",
    "  cumsum = np.cumsum(np.insert(x, 0, 0)) \n",
    "  return (cumsum[windowSize:] - cumsum[:-windowSize]) / windowSize\n",
    "\n",
    "# \n",
    "def interpret_wav(raw_bytes, n_frames, n_channels, sample_width, interleaved = True):\n",
    "\n",
    "    if sample_width == 1:\n",
    "        dtype = np.uint8 # unsigned char\n",
    "    elif sample_width == 2:\n",
    "        dtype = np.int16 # signed 2-byte short\n",
    "    else:\n",
    "        raise ValueError(\"Only supports 8 and 16 bit audio formats.\")\n",
    "\n",
    "    channels = np.fromstring(raw_bytes, dtype=dtype)\n",
    "\n",
    "    if interleaved:\n",
    "        # channels are interleaved, i.e. sample N of channel M follows sample N of channel M-1 in raw data\n",
    "        channels.shape = (n_frames, n_channels)\n",
    "        channels = channels.T\n",
    "    else:\n",
    "        # channels are not interleaved. All samples from channel M occur before all samples from channel M-1\n",
    "        channels.shape = (n_channels, n_frames)\n",
    "\n",
    "    return channels\n",
    "\n",
    "with contextlib.closing(wave.open(fname,'rb')) as spf:\n",
    "    sampleRate = spf.getframerate()\n",
    "    ampWidth = spf.getsampwidth()\n",
    "    nChannels = spf.getnchannels()\n",
    "    nFrames = spf.getnframes()\n",
    "\n",
    "    # Extract Raw Audio from multi-channel Wav File\n",
    "    signal = spf.readframes(nFrames*nChannels)\n",
    "    spf.close()\n",
    "    channels = interpret_wav(signal, nFrames, nChannels, ampWidth, True)\n",
    "\n",
    "    # get window size\n",
    "    # \n",
    "    freqRatio = (cutOffFrequency/sampleRate)\n",
    "    N = int(math.sqrt(0.196196 + freqRatio**2)/freqRatio)\n",
    "\n",
    "    # Use moviung average (only on first channel)\n",
    "    filtered = running_mean(channels[0], N).astype(channels.dtype)\n",
    "\n",
    "    wav_file = wave.open(outname, \"w\")\n",
    "    wav_file.setparams((1, ampWidth, sampleRate, nFrames, spf.getcomptype(), spf.getcompname()))\n",
    "    wav_file.writeframes(filtered.tobytes('C'))\n",
    "    wav_file.close()"
   ]
  },
  {
   "cell_type": "markdown",
   "metadata": {},
   "source": [
    "import malaya_speech\n",
    "import numpy as np\n",
    "import librosa\n",
    "y, sr = malaya_speech.load('speech/podcast/nusantara.wav')\n",
    "from pydub import AudioSegment\n",
    "from pydub.silence import split_on_silence\n",
    "\n",
    "y_int = malaya_speech.astype.float_to_int(y)\n",
    "audio = AudioSegment(\n",
    "    y_int.tobytes(),\n",
    "    frame_rate = sr,\n",
    "    sample_width = y_int.dtype.itemsize,\n",
    "    channels = 1\n",
    ")\n",
    "audio_chunks = split_on_silence(\n",
    "    audio,\n",
    "    min_silence_len = 200,\n",
    "    silence_thresh = -30,\n",
    "    keep_silence = 100,\n",
    ")\n",
    "audio_chunks\n",
    "y_ = sum(audio_chunks)\n",
    "y_ = np.array(y_.get_array_of_samples())\n",
    "y_ = malaya_speech.astype.int_to_float(y_)\n"
   ]
  }
 ],
 "metadata": {
  "kernelspec": {
   "display_name": "Python 3",
   "language": "python",
   "name": "python3"
  },
  "language_info": {
   "codemirror_mode": {
    "name": "ipython",
    "version": 3
   },
   "file_extension": ".py",
   "mimetype": "text/x-python",
   "name": "python",
   "nbconvert_exporter": "python",
   "pygments_lexer": "ipython3",
   "version": "3.8.5"
  }
 },
 "nbformat": 4,
 "nbformat_minor": 2
}
